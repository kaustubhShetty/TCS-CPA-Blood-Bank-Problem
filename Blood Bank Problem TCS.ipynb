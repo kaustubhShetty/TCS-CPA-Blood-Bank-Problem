{
 "cells": [
  {
   "cell_type": "code",
   "execution_count": 3,
   "metadata": {},
   "outputs": [
    {
     "name": "stdout",
     "output_type": "stream",
     "text": [
      "4\n",
      "A\n",
      "10\n",
      "B\n",
      "5\n",
      "O\n",
      "3\n",
      "AB\n",
      "8\n",
      "AB\n",
      "6\n",
      "Blood Available.\n",
      "O\n"
     ]
    }
   ],
   "source": [
    "class Blood:\n",
    "    def __init__(self,bloodGroup,unitInHand):\n",
    "        self.bloodGroup = bloodGroup\n",
    "        self.unitInHand = unitInHand\n",
    "class BloodBank:\n",
    "    def __init__(self,bloodList):\n",
    "        self.bloodList = bloodList\n",
    "    def isBloodAvailable(self,requiredBloodGroup,requiredUnitInHand):\n",
    "        for i in range(0,len(bloodList)):\n",
    "            if self.bloodList[i].bloodGroup == requiredBloodGroup:\n",
    "                if self.bloodList[i].unitInHand>=requiredUnitInHand:\n",
    "                    return True\n",
    "                else:\n",
    "                    return False\n",
    "        return False\n",
    "    def findMinBloodStock(self):\n",
    "        unitInHandList = []\n",
    "        for i in range(0,len(bloodList)):\n",
    "            unitInHandList.append(self.bloodList[i].unitInHand)\n",
    "        minimum = min(unitInHandList)\n",
    "        for i in range(0,len(bloodList)):\n",
    "            if minimum==self.bloodList[i].unitInHand:\n",
    "                print(self.bloodList[i].bloodGroup)\n",
    "if __name__==\"__main__\":\n",
    "    noOfBloodObjects = int(input())\n",
    "    bloodList = []\n",
    "    for i in range(0,noOfBloodObjects):\n",
    "        bloodList.append(Blood(input(),int(input())))\n",
    "    requiredBloodGroup = input()\n",
    "    requiredUnitInHand = int(input())\n",
    "    BloodBankObject = BloodBank(bloodList)\n",
    "    result = BloodBankObject.isBloodAvailable(requiredBloodGroup,requiredUnitInHand)\n",
    "    if result:\n",
    "        print(\"Blood Available.\")\n",
    "    else:\n",
    "        print(\"Blood not Available.\")\n",
    "    BloodBankObject.findMinBloodStock()"
   ]
  },
  {
   "cell_type": "code",
   "execution_count": null,
   "metadata": {},
   "outputs": [],
   "source": []
  }
 ],
 "metadata": {
  "kernelspec": {
   "display_name": "Python 3",
   "language": "python",
   "name": "python3"
  },
  "language_info": {
   "codemirror_mode": {
    "name": "ipython",
    "version": 3
   },
   "file_extension": ".py",
   "mimetype": "text/x-python",
   "name": "python",
   "nbconvert_exporter": "python",
   "pygments_lexer": "ipython3",
   "version": "3.7.4"
  }
 },
 "nbformat": 4,
 "nbformat_minor": 2
}
